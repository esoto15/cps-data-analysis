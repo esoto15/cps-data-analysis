{
 "cells": [
  {
   "cell_type": "code",
   "execution_count": 2,
   "id": "e10cb5a8-130e-4ff5-a6d0-b94f3eacde27",
   "metadata": {},
   "outputs": [],
   "source": [
    "import pandas as pd\n",
    "import matplotlib.pyplot as plt"
   ]
  },
  {
   "cell_type": "code",
   "execution_count": 17,
   "id": "524e8807-5843-4936-9952-6f9305240c23",
   "metadata": {},
   "outputs": [],
   "source": [
    "df = pd.read_csv('Chicago_Public_Schools_-_Progress_Report_Cards__2011-2012_.csv')"
   ]
  },
  {
   "cell_type": "code",
   "execution_count": 18,
   "id": "3effb084-c61c-44e7-8bd5-2cf182fb334e",
   "metadata": {},
   "outputs": [
    {
     "data": {
      "text/html": [
       "<div>\n",
       "<style scoped>\n",
       "    .dataframe tbody tr th:only-of-type {\n",
       "        vertical-align: middle;\n",
       "    }\n",
       "\n",
       "    .dataframe tbody tr th {\n",
       "        vertical-align: top;\n",
       "    }\n",
       "\n",
       "    .dataframe thead th {\n",
       "        text-align: right;\n",
       "    }\n",
       "</style>\n",
       "<table border=\"1\" class=\"dataframe\">\n",
       "  <thead>\n",
       "    <tr style=\"text-align: right;\">\n",
       "      <th></th>\n",
       "      <th>School ID</th>\n",
       "      <th>Name of School</th>\n",
       "      <th>Elementary, Middle, or High School</th>\n",
       "      <th>Street Address</th>\n",
       "      <th>City</th>\n",
       "      <th>State</th>\n",
       "      <th>ZIP Code</th>\n",
       "      <th>Phone Number</th>\n",
       "      <th>Link</th>\n",
       "      <th>Network Manager</th>\n",
       "      <th>...</th>\n",
       "      <th>RCDTS Code</th>\n",
       "      <th>X_COORDINATE</th>\n",
       "      <th>Y_COORDINATE</th>\n",
       "      <th>Latitude</th>\n",
       "      <th>Longitude</th>\n",
       "      <th>Community Area Number</th>\n",
       "      <th>Community Area Name</th>\n",
       "      <th>Ward</th>\n",
       "      <th>Police District</th>\n",
       "      <th>Location</th>\n",
       "    </tr>\n",
       "  </thead>\n",
       "  <tbody>\n",
       "    <tr>\n",
       "      <th>0</th>\n",
       "      <td>609966</td>\n",
       "      <td>Charles G Hammond Elementary School</td>\n",
       "      <td>ES</td>\n",
       "      <td>2819 W 21st Pl</td>\n",
       "      <td>Chicago</td>\n",
       "      <td>IL</td>\n",
       "      <td>60623</td>\n",
       "      <td>(773) 535-4580</td>\n",
       "      <td>http://schoolreports.cps.edu/SchoolProgressRep...</td>\n",
       "      <td>Pilsen-Little Village Elementary Network</td>\n",
       "      <td>...</td>\n",
       "      <td>150000000000000</td>\n",
       "      <td>1157809.015</td>\n",
       "      <td>1889554.623</td>\n",
       "      <td>41.852691</td>\n",
       "      <td>-87.696278</td>\n",
       "      <td>30</td>\n",
       "      <td>SOUTH LAWNDALE</td>\n",
       "      <td>12</td>\n",
       "      <td>10</td>\n",
       "      <td>(41.85269133, -87.69627777)</td>\n",
       "    </tr>\n",
       "    <tr>\n",
       "      <th>1</th>\n",
       "      <td>610539</td>\n",
       "      <td>Marvin Camras Elementary School</td>\n",
       "      <td>ES</td>\n",
       "      <td>3000 N Mango Ave</td>\n",
       "      <td>Chicago</td>\n",
       "      <td>IL</td>\n",
       "      <td>60634</td>\n",
       "      <td>(773) 534-2960</td>\n",
       "      <td>http://schoolreports.cps.edu/SchoolProgressRep...</td>\n",
       "      <td>Fullerton Elementary Network</td>\n",
       "      <td>...</td>\n",
       "      <td>150000000000000</td>\n",
       "      <td>1137482.296</td>\n",
       "      <td>1919394.900</td>\n",
       "      <td>41.934966</td>\n",
       "      <td>-87.770165</td>\n",
       "      <td>19</td>\n",
       "      <td>BELMONT CRAGIN</td>\n",
       "      <td>30</td>\n",
       "      <td>25</td>\n",
       "      <td>(41.93496641, -87.77016525)</td>\n",
       "    </tr>\n",
       "  </tbody>\n",
       "</table>\n",
       "<p>2 rows × 79 columns</p>\n",
       "</div>"
      ],
      "text/plain": [
       "   School ID                       Name of School  \\\n",
       "0     609966  Charles G Hammond Elementary School   \n",
       "1     610539      Marvin Camras Elementary School   \n",
       "\n",
       "  Elementary, Middle, or High School     Street Address     City State  \\\n",
       "0                                 ES    2819 W 21st Pl   Chicago    IL   \n",
       "1                                 ES  3000 N Mango Ave   Chicago    IL   \n",
       "\n",
       "   ZIP Code    Phone Number  \\\n",
       "0     60623  (773) 535-4580   \n",
       "1     60634  (773) 534-2960   \n",
       "\n",
       "                                               Link   \\\n",
       "0  http://schoolreports.cps.edu/SchoolProgressRep...   \n",
       "1  http://schoolreports.cps.edu/SchoolProgressRep...   \n",
       "\n",
       "                            Network Manager  ...       RCDTS Code  \\\n",
       "0  Pilsen-Little Village Elementary Network  ...  150000000000000   \n",
       "1              Fullerton Elementary Network  ...  150000000000000   \n",
       "\n",
       "  X_COORDINATE Y_COORDINATE   Latitude  Longitude Community Area Number  \\\n",
       "0  1157809.015  1889554.623  41.852691 -87.696278                    30   \n",
       "1  1137482.296  1919394.900  41.934966 -87.770165                    19   \n",
       "\n",
       "  Community Area Name  Ward Police District                     Location  \n",
       "0      SOUTH LAWNDALE    12              10  (41.85269133, -87.69627777)  \n",
       "1      BELMONT CRAGIN    30              25  (41.93496641, -87.77016525)  \n",
       "\n",
       "[2 rows x 79 columns]"
      ]
     },
     "execution_count": 18,
     "metadata": {},
     "output_type": "execute_result"
    }
   ],
   "source": [
    "df.head(2)"
   ]
  },
  {
   "cell_type": "code",
   "execution_count": 20,
   "id": "71ba3760-7937-46d3-89c6-84eec6a7d90d",
   "metadata": {},
   "outputs": [],
   "source": [
    "df.drop(['School ID', 'Name of School','Street Address', 'City', 'State', 'ZIP Code', 'Phone Number', 'Link ',\n",
    "        'Network Manager', 'Collaborative Name', 'Adequate Yearly Progress Made? ',\n",
    "        'Safety Icon ', 'Family Involvement Icon', 'Environment Icon ', 'Instruction Icon ',\n",
    "         'Leaders Icon ', 'Leaders Icon ','Teachers Icon ', 'Parent Engagement Icon ',\n",
    "         'Parent Environment Icon', 'RCDTS Code',\n",
    "       'X_COORDINATE', 'Y_COORDINATE', 'Latitude', 'Longitude',\n",
    "       'Community Area Number', 'Community Area Name', 'Location'], axis=1, inplace=True)"
   ]
  },
  {
   "cell_type": "code",
   "execution_count": 21,
   "id": "dde466e5-2ab1-48e9-94cd-933c35323379",
   "metadata": {},
   "outputs": [
    {
     "data": {
      "text/plain": [
       "Index(['Elementary, Middle, or High School', 'Track Schedule',\n",
       "       'CPS Performance Policy Status', 'CPS Performance Policy Level',\n",
       "       'Healthy Schools Certified?', 'Safety Score',\n",
       "       'Family Involvement Score', 'Environment Score', 'Instruction Score',\n",
       "       'Leaders Score ', 'Teachers Score', 'Parent Engagement Score',\n",
       "       'Parent Environment Score', 'Average Student Attendance',\n",
       "       'Rate of Misconducts (per 100 students) ', 'Average Teacher Attendance',\n",
       "       'Individualized Education Program Compliance Rate ', 'Pk-2 Literacy %',\n",
       "       'Pk-2 Math %', 'Gr3-5 Grade Level Math %', 'Gr3-5 Grade Level Read % ',\n",
       "       'Gr3-5 Keep Pace Read %', 'Gr3-5 Keep Pace Math %',\n",
       "       'Gr6-8 Grade Level Math %', 'Gr6-8 Grade Level Read %',\n",
       "       'Gr6-8 Keep Pace Math%', 'Gr6-8 Keep Pace Read %',\n",
       "       'Gr-8 Explore Math %', 'Gr-8 Explore Read %', 'ISAT Exceeding Math %',\n",
       "       'ISAT Exceeding Reading % ', 'ISAT Value Add Math',\n",
       "       'ISAT Value Add Read', 'ISAT Value Add Color Math',\n",
       "       'ISAT Value Add Color Read', 'Students Taking  Algebra %',\n",
       "       'Students Passing  Algebra %', '9th Grade EXPLORE (2009) ',\n",
       "       '9th Grade EXPLORE (2010) ', '10th Grade PLAN (2009) ',\n",
       "       '10th Grade PLAN (2010) ', 'Net Change EXPLORE and PLAN',\n",
       "       '11th Grade Average ACT (2011) ', 'Net Change PLAN and ACT',\n",
       "       'College Eligibility %', 'Graduation Rate %',\n",
       "       'College Enrollment Rate %', 'College Enrollment (number of students) ',\n",
       "       'General Services Route ', 'Freshman on Track Rate %', 'Ward',\n",
       "       'Police District'],\n",
       "      dtype='object')"
      ]
     },
     "execution_count": 21,
     "metadata": {},
     "output_type": "execute_result"
    }
   ],
   "source": [
    "df.columns"
   ]
  },
  {
   "cell_type": "code",
   "execution_count": 28,
   "id": "7b914aac-7c27-4283-ada5-90acb8fa92d1",
   "metadata": {
    "tags": []
   },
   "outputs": [
    {
     "data": {
      "text/plain": [
       "(93, 32)"
      ]
     },
     "execution_count": 28,
     "metadata": {},
     "output_type": "execute_result"
    }
   ],
   "source": [
    "high_school = ['Elementary, Middle, or High School', 'CPS Performance Policy Status', 'CPS Performance Policy Level',\n",
    "       'Healthy Schools Certified?', 'Safety Score',\n",
    "       'Family Involvement Score', 'Environment Score', 'Instruction Score',\n",
    "       'Leaders Score ', 'Teachers Score', 'Parent Engagement Score',\n",
    "       'Parent Environment Score', 'Average Student Attendance',\n",
    "       'Rate of Misconducts (per 100 students) ', 'Average Teacher Attendance','Students Taking  Algebra %',\n",
    "       'Students Passing  Algebra %', '9th Grade EXPLORE (2009) ',\n",
    "       '9th Grade EXPLORE (2010) ', '10th Grade PLAN (2009) ',\n",
    "       '10th Grade PLAN (2010) ', 'Net Change EXPLORE and PLAN',\n",
    "       '11th Grade Average ACT (2011) ', 'Net Change PLAN and ACT',\n",
    "       'College Eligibility %', 'Graduation Rate %',\n",
    "       'College Enrollment Rate %', 'College Enrollment (number of students) ',\n",
    "       'General Services Route ', 'Freshman on Track Rate %', 'Ward',\n",
    "       'Police District']\n",
    "\n",
    "high_school = df[high_school]\n",
    "high_school = high_school[high_school[\"Elementary, Middle, or High School\"] == 'HS']\n",
    "high_school.shape"
   ]
  },
  {
   "cell_type": "code",
   "execution_count": null,
   "id": "b6c21e22-ec34-4d8c-85a4-2973713c4f5f",
   "metadata": {},
   "outputs": [],
   "source": []
  }
 ],
 "metadata": {
  "kernelspec": {
   "display_name": "Python 3 (ipykernel)",
   "language": "python",
   "name": "python3"
  },
  "language_info": {
   "codemirror_mode": {
    "name": "ipython",
    "version": 3
   },
   "file_extension": ".py",
   "mimetype": "text/x-python",
   "name": "python",
   "nbconvert_exporter": "python",
   "pygments_lexer": "ipython3",
   "version": "3.9.7"
  }
 },
 "nbformat": 4,
 "nbformat_minor": 5
}
